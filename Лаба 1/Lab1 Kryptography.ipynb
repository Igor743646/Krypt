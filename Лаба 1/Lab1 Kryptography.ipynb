{
 "cells": [
  {
   "cell_type": "code",
   "execution_count": 3,
   "metadata": {},
   "outputs": [],
   "source": [
    "import math\n",
    "from random import *\n",
    "from sympy import isprime\n",
    "from sympy.ntheory import factorint"
   ]
  },
  {
   "cell_type": "markdown",
   "metadata": {},
   "source": [
    "## Первое число"
   ]
  },
  {
   "cell_type": "code",
   "execution_count": 4,
   "metadata": {},
   "outputs": [],
   "source": [
    "N = 108762353292448487441247663685513658893167646930627178946128889967643172154127"
   ]
  },
  {
   "cell_type": "code",
   "execution_count": 5,
   "metadata": {},
   "outputs": [
    {
     "data": {
      "text/plain": [
       "256"
      ]
     },
     "execution_count": 5,
     "metadata": {},
     "output_type": "execute_result"
    }
   ],
   "source": [
    "len(bin(N)[2:])"
   ]
  },
  {
   "cell_type": "code",
   "execution_count": 6,
   "metadata": {},
   "outputs": [
    {
     "data": {
      "text/plain": [
       "True"
      ]
     },
     "execution_count": 6,
     "metadata": {},
     "output_type": "execute_result"
    }
   ],
   "source": [
    "N == 260951289862485772644727258162652873363 * 416791782672403295662841737728685758229"
   ]
  },
  {
   "cell_type": "markdown",
   "metadata": {},
   "source": [
    "## Второе число"
   ]
  },
  {
   "cell_type": "code",
   "execution_count": 7,
   "metadata": {},
   "outputs": [],
   "source": [
    "N = 6460022354312582572793343100604163087216372941214865569096184912826464912951934844843290548057971769185825571008898779827285829198579888230136431509729644521505820664210671796785408727881787088472858544237323843649456753195786360153338730014417334774860737788349377171270117783539517147103729867405974761065566886813619687414228558901198237125901551456589579117850298162443488215653711057874251971726449089251928969082516345596779536154854135917899503811275677859"
   ]
  },
  {
   "cell_type": "code",
   "execution_count": 8,
   "metadata": {},
   "outputs": [
    {
     "data": {
      "text/plain": [
       "1538"
      ]
     },
     "execution_count": 8,
     "metadata": {},
     "output_type": "execute_result"
    }
   ],
   "source": [
    "len(bin(N)[2:])"
   ]
  },
  {
   "cell_type": "markdown",
   "metadata": {},
   "source": [
    "## Ро-алгоритм Полларда"
   ]
  },
  {
   "cell_type": "code",
   "execution_count": 9,
   "metadata": {},
   "outputs": [],
   "source": [
    "def IsPrime(n):\n",
    "    if n in [1,2,3,5,7,11,13,17]: return True\n",
    "    \n",
    "    import math, random\n",
    "    \n",
    "    # проверка на делимость в пределах 257 делителей\n",
    "    for i in range(2, min(2000, int(math.sqrt(n)) + 1) ):\n",
    "        if n % i == 0:\n",
    "            return False\n",
    "    \n",
    "    # тест Миллера — Рабина\n",
    "    k = max(math.ceil(math.log(n, 2)), 10)\n",
    "    \n",
    "    s = 0\n",
    "    d = n - 1\n",
    "    \n",
    "    while d % 2 == 0:\n",
    "        s += 1\n",
    "        d //= 2\n",
    "    \n",
    "    for _ in range(k):\n",
    "        a_k = random.randint(2, n - 2)\n",
    "        x = pow(a_k, d, n)\n",
    "        \n",
    "        if x == 1 or x == n - 1: # проверка на первое условие\n",
    "            continue\n",
    "        \n",
    "        flag = False\n",
    "        for _ in range(s - 1): # проверка на второе условие\n",
    "            x = pow(x, 2, n)\n",
    "            if x == 1:\n",
    "                return False\n",
    "            if x == n - 1:\n",
    "                flag = True\n",
    "                break\n",
    "        \n",
    "        if flag:\n",
    "            continue\n",
    "            \n",
    "        return False\n",
    "    return True\n",
    "\n",
    "def Po_Polard(N, xseed = None, yseed = None):\n",
    "    if IsPrime(N): return N\n",
    "    \n",
    "    F = lambda x: (x**2 - 1) % N\n",
    "    \n",
    "    x = randint(2, N) if xseed == None else xseed\n",
    "    y = randint(2, N) if yseed == None else yseed\n",
    "    \n",
    "    g = gcd(abs(x - y), N)\n",
    "    \n",
    "    while g == 1:\n",
    "        x = F(x)\n",
    "        y = F(F(y))\n",
    "        g = gcd(abs(x - y), N)\n",
    "        \n",
    "    return g if g != N else Po_Polard(N)"
   ]
  },
  {
   "cell_type": "markdown",
   "metadata": {},
   "source": [
    "**Примеры на числах Ферма:**"
   ]
  },
  {
   "cell_type": "code",
   "execution_count": 10,
   "metadata": {},
   "outputs": [
    {
     "data": {
      "text/plain": [
       "641"
      ]
     },
     "execution_count": 10,
     "metadata": {},
     "output_type": "execute_result"
    }
   ],
   "source": [
    "Po_Polard(2**(2**5) + 1)"
   ]
  },
  {
   "cell_type": "code",
   "execution_count": 13,
   "metadata": {},
   "outputs": [
    {
     "data": {
      "text/plain": [
       "274177"
      ]
     },
     "execution_count": 13,
     "metadata": {},
     "output_type": "execute_result"
    }
   ],
   "source": [
    "Po_Polard(2**(2**6) + 1)"
   ]
  },
  {
   "cell_type": "code",
   "execution_count": 14,
   "metadata": {},
   "outputs": [
    {
     "data": {
      "text/plain": [
       "2424833"
      ]
     },
     "execution_count": 14,
     "metadata": {},
     "output_type": "execute_result"
    }
   ],
   "source": [
    "Po_Polard(2**(2**9) + 1)"
   ]
  }
 ],
 "metadata": {
  "kernelspec": {
   "display_name": "SageMath 9.3",
   "language": "sage",
   "name": "sagemath"
  },
  "language_info": {
   "codemirror_mode": {
    "name": "ipython",
    "version": 3
   },
   "file_extension": ".py",
   "mimetype": "text/x-python",
   "name": "python",
   "nbconvert_exporter": "python",
   "pygments_lexer": "ipython3",
   "version": "3.7.10"
  }
 },
 "nbformat": 4,
 "nbformat_minor": 4
}
